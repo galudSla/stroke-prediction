{
  "nbformat": 4,
  "nbformat_minor": 0,
  "metadata": {
    "colab": {
      "provenance": [],
      "authorship_tag": "ABX9TyM4Wo9SlCpNpHubpiZrVJmC",
      "include_colab_link": true
    },
    "kernelspec": {
      "name": "python3",
      "display_name": "Python 3"
    },
    "language_info": {
      "name": "python"
    }
  },
  "cells": [
    {
      "cell_type": "markdown",
      "metadata": {
        "id": "view-in-github",
        "colab_type": "text"
      },
      "source": [
        "<a href=\"https://colab.research.google.com/github/galudSla/stroke-prediction/blob/main/kNN.ipynb\" target=\"_parent\"><img src=\"https://colab.research.google.com/assets/colab-badge.svg\" alt=\"Open In Colab\"/></a>"
      ]
    },
    {
      "cell_type": "code",
      "execution_count": 57,
      "metadata": {
        "id": "GLZChuTdwGQA"
      },
      "outputs": [],
      "source": [
        "import pandas as pd\n",
        "from sklearn import neighbors\n",
        "from sklearn.preprocessing import MinMaxScaler"
      ]
    },
    {
      "cell_type": "code",
      "source": [
        "url = 'https://raw.githubusercontent.com/galudSla/stroke-prediction/main/healthcare-dataset-stroke-data.csv'\n",
        "df_4 = pd.read_csv(url)\n",
        "test_data = df_4[df_4['bmi'].isnull()]\n",
        "train_data = df_4.dropna()\n",
        "x_train = train_data.drop(['id','bmi'], axis=1)\n",
        "y_train = train_data['bmi']\n",
        "x_test = test_data.drop(['id','bmi'], axis=1)\n",
        "y_test = test_data['bmi']"
      ],
      "metadata": {
        "id": "Ho2YqEI5wHUU"
      },
      "execution_count": 58,
      "outputs": []
    },
    {
      "cell_type": "markdown",
      "source": [
        "Manual Label Encoding - Ordered data"
      ],
      "metadata": {
        "id": "33PRmcZgB6eJ"
      }
    },
    {
      "cell_type": "code",
      "source": [
        "x_train.smoking_status = x_train.smoking_status.map({\n",
        "    'Unknown': 0,\n",
        "    'never smoked': 1,\n",
        "    'formerly smoked': 2,\n",
        "    'smokes': 3,\n",
        "})"
      ],
      "metadata": {
        "id": "8suyuHYSwHYe"
      },
      "execution_count": 59,
      "outputs": []
    },
    {
      "cell_type": "markdown",
      "source": [
        "Label Encoding - Binary Data (unordered) Category Coding\n"
      ],
      "metadata": {
        "id": "z2ku6iEVB7T3"
      }
    },
    {
      "cell_type": "code",
      "source": [
        "attributes = list(x_train.columns)\n",
        "for i in range(len(attributes)):\n",
        "    if x_train.dtypes[i] ==  'object' and attributes[i] != 'smoking_status':\n",
        "        x_train[attributes[i]] = x_train[attributes[i]].astype('category')\n",
        "        x_train[attributes[i]] = x_train[attributes[i]].cat.codes"
      ],
      "metadata": {
        "id": "TNoiUuXgwHhM"
      },
      "execution_count": 60,
      "outputs": []
    },
    {
      "cell_type": "markdown",
      "source": [
        "Feature Scaling - MinMaxScaler normalization"
      ],
      "metadata": {
        "id": "mWLgXTOBCAMd"
      }
    },
    {
      "cell_type": "code",
      "source": [
        "cols = ['smoking_status','work_type','avg_glucose_level','age' ]\n",
        "x_train[cols] = MinMaxScaler(feature_range=(0, 1)).fit_transform(x_train[cols])"
      ],
      "metadata": {
        "id": "GR7PSth2wHnZ"
      },
      "execution_count": 61,
      "outputs": []
    },
    {
      "cell_type": "markdown",
      "source": [
        "Manual Label Encoding - Ordered data"
      ],
      "metadata": {
        "id": "ln_x8dAVCA8q"
      }
    },
    {
      "cell_type": "code",
      "source": [
        "x_test.smoking_status = x_test.smoking_status.map({\n",
        "    'Unknown': 0,\n",
        "    'never smoked': 1,\n",
        "    'formerly smoked': 2,\n",
        "    'smokes': 3,\n",
        "})"
      ],
      "metadata": {
        "id": "jxM_swbRwHtV"
      },
      "execution_count": 62,
      "outputs": []
    },
    {
      "cell_type": "markdown",
      "source": [
        "Label Encoding - Binary Data (unordered) Category Coding"
      ],
      "metadata": {
        "id": "4pYfeDqjCD9_"
      }
    },
    {
      "cell_type": "code",
      "source": [
        "attributes = list(x_test.columns)\n",
        "for i in range(len(attributes)):\n",
        "    if x_test.dtypes[i] ==  'object' and attributes[i] != 'smoking_status':\n",
        "        x_test[attributes[i]] = x_test[attributes[i]].astype('category')\n",
        "        x_test[attributes[i]] = x_test[attributes[i]].cat.codes"
      ],
      "metadata": {
        "id": "M2eZIweawHzS"
      },
      "execution_count": 63,
      "outputs": []
    },
    {
      "cell_type": "markdown",
      "source": [
        "Feature Scaling - MinMaxScaler normalization"
      ],
      "metadata": {
        "id": "UYFBG2nsCF7G"
      }
    },
    {
      "cell_type": "code",
      "source": [
        "cols = ['smoking_status','work_type','avg_glucose_level','age' ]\n",
        "x_test[cols] = MinMaxScaler(feature_range=(0, 1)).fit_transform(x_test[cols])"
      ],
      "metadata": {
        "id": "UapNraAMwH5G"
      },
      "execution_count": 64,
      "outputs": []
    },
    {
      "cell_type": "markdown",
      "source": [
        "Fit kNN model"
      ],
      "metadata": {
        "id": "Qg6VWVhhCHaA"
      }
    },
    {
      "cell_type": "code",
      "source": [
        "model = neighbors.KNeighborsRegressor(n_neighbors = 3)\n",
        "model.fit(x_train, y_train)\n",
        "y_pred = model.predict(x_test)\n",
        "df_4.loc[df_4['bmi'].isnull(), 'bmi'] = y_pred"
      ],
      "metadata": {
        "id": "0oZmr6D_wH-8"
      },
      "execution_count": 68,
      "outputs": []
    },
    {
      "cell_type": "code",
      "source": [
        "from sklearn.model_selection import train_test_split\n",
        "from sklearn.ensemble import RandomForestClassifier\n",
        "from sklearn.metrics import confusion_matrix, classification_report\n",
        "import matplotlib.pyplot as plt\n",
        "import seaborn as sn\n"
      ],
      "metadata": {
        "id": "VsNX3GswwVQh"
      },
      "execution_count": 69,
      "outputs": []
    },
    {
      "cell_type": "code",
      "source": [
        "def print_confusion_matrix(confusion_matrix, class_names, figsize = (10,7), fontsize=14):\n",
        "    df_cm = pd.DataFrame(confusion_matrix, index=class_names, columns=class_names)\n",
        "    fig = plt.figure(figsize=figsize)\n",
        "    try:\n",
        "        heatmap = sn.heatmap(df_cm, annot=True, fmt=\"d\")\n",
        "    except ValueError:\n",
        "        raise ValueError(\"Confusion matrix values must be integers.\")\n",
        "    heatmap.yaxis.set_ticklabels(heatmap.yaxis.get_ticklabels(), rotation=0, ha='right', fontsize=fontsize)\n",
        "    heatmap.xaxis.set_ticklabels(heatmap.xaxis.get_ticklabels(), rotation=45, ha='right', fontsize=fontsize)\n",
        "    plt.ylabel('Truth')\n",
        "    plt.xlabel('Prediction')"
      ],
      "metadata": {
        "id": "QL8mY9ajwWaW"
      },
      "execution_count": 70,
      "outputs": []
    },
    {
      "cell_type": "markdown",
      "source": [
        "Manual Label Encoding - Ordered data"
      ],
      "metadata": {
        "id": "7CBgDKHnCJGW"
      }
    },
    {
      "cell_type": "code",
      "source": [
        "df_4.smoking_status = df_4.smoking_status.map({\n",
        "    'Unknown': 0,\n",
        "    'never smoked': 1,\n",
        "    'formerly smoked': 2,\n",
        "    'smokes': 3,\n",
        "})"
      ],
      "metadata": {
        "id": "LygKRWGYwW5T"
      },
      "execution_count": 71,
      "outputs": []
    },
    {
      "cell_type": "markdown",
      "source": [
        "Label Encoding - Binary Data (unordered) Category Coding"
      ],
      "metadata": {
        "id": "5xVgNzJVCK9k"
      }
    },
    {
      "cell_type": "code",
      "source": [
        "attributes = list(df_4.columns)\n",
        "for i in range(len(attributes)):\n",
        "    if df_4.dtypes[i] ==  'object' and attributes[i] != 'smoking_status':\n",
        "        df_4[attributes[i]] = df_4[attributes[i]].astype('category')\n",
        "        df_4[attributes[i]] = df_4[attributes[i]].cat.codes\n"
      ],
      "metadata": {
        "id": "PzCKDainwXEL"
      },
      "execution_count": 72,
      "outputs": []
    },
    {
      "cell_type": "code",
      "source": [
        "df_4 = df_4.drop(['id'],axis='columns')"
      ],
      "metadata": {
        "id": "pFzh70rEwXTA"
      },
      "execution_count": 73,
      "outputs": []
    },
    {
      "cell_type": "code",
      "source": [
        "x_train, x_test, y_train, y_test = train_test_split(df_4.drop(['stroke'],axis='columns'), df_4.stroke, test_size=0.25)\n",
        "model = RandomForestClassifier()\n",
        "model.fit(x_train, y_train)\n",
        "y_pred = model.predict(x_test)"
      ],
      "metadata": {
        "id": "SBdcjkT-wXb-"
      },
      "execution_count": 74,
      "outputs": []
    },
    {
      "cell_type": "code",
      "source": [
        "cm = confusion_matrix(y_test, y_pred)\n",
        "print_confusion_matrix(cm, ['stroke','not a stroke'])\n",
        "print(classification_report(y_test, y_pred))"
      ],
      "metadata": {
        "id": "_dO71NlGwXin",
        "colab": {
          "base_uri": "https://localhost:8080/",
          "height": 857
        },
        "outputId": "7acfc7cc-c63a-4e12-9767-9c9703d08f89"
      },
      "execution_count": 75,
      "outputs": [
        {
          "output_type": "stream",
          "name": "stdout",
          "text": [
            "              precision    recall  f1-score   support\n",
            "\n",
            "           0       0.95      1.00      0.97      1214\n",
            "           1       0.33      0.02      0.03        64\n",
            "\n",
            "    accuracy                           0.95      1278\n",
            "   macro avg       0.64      0.51      0.50      1278\n",
            "weighted avg       0.92      0.95      0.93      1278\n",
            "\n"
          ]
        },
        {
          "output_type": "display_data",
          "data": {
            "text/plain": [
              "<Figure size 1000x700 with 2 Axes>"
            ],
            "image/png": "[encoded data removed]"
          },
          "metadata": {}
        }
      ]
    }
  ]
}